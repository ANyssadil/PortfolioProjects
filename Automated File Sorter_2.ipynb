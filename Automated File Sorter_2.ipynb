{
 "cells": [
  {
   "cell_type": "code",
   "execution_count": null,
   "id": "2375ed9c",
   "metadata": {},
   "outputs": [],
   "source": [
    "import os\n",
    "import shutil\n",
    "\n",
    "#folder path\n",
    "parent_folder_path=input (\"Enter the folder path: \")\n",
    "\n",
    "\n",
    "#looping through files in the folder \n",
    "\n",
    "for filename in os.listdir(parent_folder_path):\n",
    "    \n",
    "    #check if the filename isn't a subfolder (isfile)\n",
    "    if os.path.isfile(os.path.join(parent_folder_path,filename)):\n",
    "        file_path=os.path.join(parent_folder_path, filename)\n",
    "        #creating directory\n",
    "        folder_name= os.path.splitext(filename)[1]\n",
    "        folder_path=os.path.join(parent_folder_path, folder_name)\n",
    "        #check if the folder doesn't already exist\n",
    "        if os.path.exists(folder_path) and os.path.isdir(folder_path):\n",
    "            pass\n",
    "        else:\n",
    "            os.mkdir(folder_path)\n",
    "        #move the file to the right directory\n",
    "        shutil.move(file_path,folder_path)\n",
    "    \n",
    "    \n",
    "    "
   ]
  },
  {
   "cell_type": "code",
   "execution_count": null,
   "id": "2e811f74",
   "metadata": {},
   "outputs": [],
   "source": []
  },
  {
   "cell_type": "code",
   "execution_count": null,
   "id": "79875213",
   "metadata": {},
   "outputs": [],
   "source": []
  }
 ],
 "metadata": {
  "kernelspec": {
   "display_name": "Python 3 (ipykernel)",
   "language": "python",
   "name": "python3"
  },
  "language_info": {
   "codemirror_mode": {
    "name": "ipython",
    "version": 3
   },
   "file_extension": ".py",
   "mimetype": "text/x-python",
   "name": "python",
   "nbconvert_exporter": "python",
   "pygments_lexer": "ipython3",
   "version": "3.11.4"
  }
 },
 "nbformat": 4,
 "nbformat_minor": 5
}
