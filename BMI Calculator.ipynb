{
 "cells": [
  {
   "cell_type": "markdown",
   "id": "4f58fb08",
   "metadata": {},
   "source": [
    "**BMI Calculator**\n"
   ]
  },
  {
   "cell_type": "code",
   "execution_count": 36,
   "id": "152bc367",
   "metadata": {},
   "outputs": [],
   "source": [
    "def bmi_cal(w_p,h_i):\n",
    "    return (w_p*703)/(h_i**2)"
   ]
  },
  {
   "cell_type": "code",
   "execution_count": 39,
   "id": "f61c8123",
   "metadata": {},
   "outputs": [
    {
     "name": "stdout",
     "output_type": "stream",
     "text": [
      "Enter your weight in pounds: 170\n",
      "Enter your height in inches: 69\n",
      "your score is:  25.101869355177485 \n",
      "your classification is Over weight \n",
      "Your health risk is Increased\n"
     ]
    }
   ],
   "source": [
    "w_p=int(input('Enter your weight in pounds: '))\n",
    "h_i=int(input('Enter your height in inches: '))\n",
    "\n",
    "score=bmi_cal(w_p,h_i)\n",
    "\n",
    "if score<18.5:\n",
    "    print('your score is: ',score,'\\nyour classification is Underweight ' + '\\nYour health risk is Minimal')\n",
    "elif score<24.9:\n",
    "    print('your score is: ',score,'\\nyour classification is Normal weight ' + '\\nYour health risk is Minimal')\n",
    "elif score<29.9:\n",
    "    print('your score is: ',score,'\\nyour classification is Over weight ' + '\\nYour health risk is Increased')\n",
    "elif score<34.9:\n",
    "    print('your score is: ',score,'\\nyour classification is Obese ' + '\\nYour health risk is Heigh')\n",
    "elif score<39.9:\n",
    "    print('your score is: ',score,'\\nyour classification is Oeverly obese ' + '\\nYour health risk is Very high')\n",
    "else:\n",
    "    print('your score is: ',score,'\\nyour classification is Morbidely obese ' + '\\nYour health risk is Extremely high')"
   ]
  },
  {
   "cell_type": "code",
   "execution_count": null,
   "id": "67f6c944",
   "metadata": {},
   "outputs": [],
   "source": []
  }
 ],
 "metadata": {
  "kernelspec": {
   "display_name": "Python 3 (ipykernel)",
   "language": "python",
   "name": "python3"
  },
  "language_info": {
   "codemirror_mode": {
    "name": "ipython",
    "version": 3
   },
   "file_extension": ".py",
   "mimetype": "text/x-python",
   "name": "python",
   "nbconvert_exporter": "python",
   "pygments_lexer": "ipython3",
   "version": "3.11.4"
  }
 },
 "nbformat": 4,
 "nbformat_minor": 5
}
